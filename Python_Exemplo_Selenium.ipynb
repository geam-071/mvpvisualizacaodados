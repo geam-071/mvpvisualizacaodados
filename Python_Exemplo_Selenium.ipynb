{
  "cells": [
    {
      "cell_type": "markdown",
      "id": "0c2fd7b5",
      "metadata": {
        "id": "0c2fd7b5"
      },
      "source": [
        "# Automação Web com Selenium\n",
        "\n",
        "#### Python + Selenium\n",
        "\n",
        "- 2 requisitos:\n",
        "    - Instalar o Selenium\n",
        "    - Webdriver Manager"
      ]
    },
    {
      "cell_type": "code",
      "execution_count": null,
      "id": "bdaded39",
      "metadata": {
        "id": "bdaded39"
      },
      "outputs": [],
      "source": []
    },
    {
      "cell_type": "code",
      "execution_count": null,
      "id": "0e9c5e72",
      "metadata": {
        "id": "0e9c5e72"
      },
      "outputs": [],
      "source": [
        "from selenium import webdriver\n",
        "from webdriver_manager.chrome import ChromeDriverManager\n",
        "from selenium.webdriver.chrome.service import Service\n",
        "\n",
        "servico = Service(ChromeDriverManager().install())\n",
        "\n",
        "navegador = webdriver.Chrome(service=servico)\n",
        "# Passo 1:\n",
        "navegador.get(\"https://pages.hashtagtreinamentos.com/inscricao-minicurso-python-automacao-org?origemurl=hashtag_yt_org_minipython_videoselenium\")\n",
        "\n",
        "# Passo 2:\n",
        "navegador.find_element('xpath',\n",
        "                       '//*[@id=\"section-10356508\"]/section/div[2]/div/div[2]/form/div[1]/div/div[1]/div/input').send_keys(\"Lira\")\n",
        "navegador.find_element('xpath',\n",
        "                       '//*[@id=\"section-10356508\"]/section/div[2]/div/div[2]/form/div[1]/div/div[2]/div/input').send_keys(\"pythonimpressionador@gmail.com\")\n",
        "# Passo 3:\n",
        "navegador.find_element('xpath', '//*[@id=\"section-10356508\"]/section/div[2]/div/div[2]/form/button').click()"
      ]
    }
  ],
  "metadata": {
    "kernelspec": {
      "display_name": "Python 3 (ipykernel)",
      "language": "python",
      "name": "python3"
    },
    "language_info": {
      "codemirror_mode": {
        "name": "ipython",
        "version": 3
      },
      "file_extension": ".py",
      "mimetype": "text/x-python",
      "name": "python",
      "nbconvert_exporter": "python",
      "pygments_lexer": "ipython3",
      "version": "3.9.7"
    },
    "colab": {
      "provenance": []
    }
  },
  "nbformat": 4,
  "nbformat_minor": 5
}